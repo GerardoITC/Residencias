{
  "nbformat": 4,
  "nbformat_minor": 0,
  "metadata": {
    "colab": {
      "provenance": [],
      "collapsed_sections": [
        "yxp5Fb0x_4fG",
        "Cb59eWdGDGy_",
        "PL-YeBC5AXp-"
      ]
    },
    "kernelspec": {
      "name": "python3",
      "display_name": "Python 3"
    },
    "language_info": {
      "name": "python"
    }
  },
  "cells": [
    {
      "cell_type": "markdown",
      "source": [
        "##PersonText un corpus con base en texto orientado a personalidad.\n",
        "**Director de Tesis**: Dr. Ramón Zatarain Cabada<br>\n",
        "**Asesora interna**: Dra. María Lucía Barrón Estrada<br>\n",
        "**Investigadores**: <br>\n",
        "  M.C. Víctor Manuel Bátiz Beltrán<br>\n",
        "  Gerardo Ángel Ruiz Beltrán\n",
        "\n",
        "  Trabajando en ella: Gerardo/Víctor"
      ],
      "metadata": {
        "id": "aWACdStF_uV2"
      }
    },
    {
      "cell_type": "markdown",
      "source": [
        "### Enfoque\n",
        "En esta implementación estaremos explorando la traducción del corpus MyPersonality al idioma español para crear una variante del corpus Persontext.\n",
        "\n",
        "Residente **Gerardo Ángel Ruiz Beltrán** estará apoyando en el semestre enero-junio 2023 con el proyecto."
      ],
      "metadata": {
        "id": "yxp5Fb0x_4fG"
      }
    },
    {
      "cell_type": "markdown",
      "source": [
        "### Lista de notebooks\n",
        "1. [Residencias_MyPersonality_Traducción.ipynb (esta notebook)](https://colab.research.google.com/drive/1LCaH96nOYYfaO_tO6SI7d-B-UU3FkTn8)\n",
        "2. [Residencias_OPN_Prueba myPersonality 5 LSTM](https://colab.research.google.com/drive/1N0nFXTAqUjrORSF4BvAjNPv7wwycNjBK)\n"
      ],
      "metadata": {
        "id": "Cb59eWdGDGy_"
      }
    },
    {
      "cell_type": "markdown",
      "source": [
        "### Primeros pasos\n",
        "Instalamos e importamos las bibliotecas que estaremos utilizando."
      ],
      "metadata": {
        "id": "PL-YeBC5AXp-"
      }
    },
    {
      "cell_type": "code",
      "execution_count": null,
      "metadata": {
        "id": "cvIqOSBJ_m7x"
      },
      "outputs": [],
      "source": [
        "import pandas as pd"
      ]
    },
    {
      "cell_type": "markdown",
      "source": [
        "## 1. Cargar los datos\n",
        "\n",
        "Descargamos el corpus MyPersonality."
      ],
      "metadata": {
        "id": "r-Dw2deLAeF2"
      }
    },
    {
      "cell_type": "code",
      "source": [
        "!wget --no-check-certificate \\\n",
        "    \"https://person-app-itc.web.app/corpus/corpus_mypersonality.csv\" \\\n",
        "    -O \"mypersonality_final.csv\""
      ],
      "metadata": {
        "colab": {
          "base_uri": "https://localhost:8080/"
        },
        "id": "5rfVGffNApwW",
        "outputId": "b20554fd-f183-44ab-c9d7-604d19edd0ec"
      },
      "execution_count": null,
      "outputs": [
        {
          "output_type": "stream",
          "name": "stdout",
          "text": [
            "--2023-03-09 01:36:26--  https://person-app-itc.web.app/corpus/corpus_mypersonality.csv\n",
            "Resolving person-app-itc.web.app (person-app-itc.web.app)... 199.36.158.100, 2620:0:890::100\n",
            "Connecting to person-app-itc.web.app (person-app-itc.web.app)|199.36.158.100|:443... connected.\n",
            "HTTP request sent, awaiting response... 200 OK\n",
            "Length: 2190737 (2.1M) [text/csv]\n",
            "Saving to: ‘mypersonality_final.csv’\n",
            "\n",
            "mypersonality_final 100%[===================>]   2.09M  --.-KB/s    in 0.04s   \n",
            "\n",
            "2023-03-09 01:36:26 (53.1 MB/s) - ‘mypersonality_final.csv’ saved [2190737/2190737]\n",
            "\n"
          ]
        }
      ]
    },
    {
      "cell_type": "code",
      "source": [
        "datos = pd.read_csv(\"mypersonality_final.csv\",sep=\",\", encoding='cp1252')"
      ],
      "metadata": {
        "id": "CVkJgsEEA1e-"
      },
      "execution_count": null,
      "outputs": []
    },
    {
      "cell_type": "code",
      "source": [
        "datos.head()"
      ],
      "metadata": {
        "colab": {
          "base_uri": "https://localhost:8080/",
          "height": 704
        },
        "id": "ftARnmXWA_5-",
        "outputId": "6650f992-c24a-4bb8-e692-341f79e2080d"
      },
      "execution_count": null,
      "outputs": [
        {
          "output_type": "execute_result",
          "data": {
            "text/plain": [
              "                            #AUTHID  \\\n",
              "0  b7b7764cfa1c523e4e93ab2a79a946c4   \n",
              "1  b7b7764cfa1c523e4e93ab2a79a946c4   \n",
              "2  b7b7764cfa1c523e4e93ab2a79a946c4   \n",
              "3  b7b7764cfa1c523e4e93ab2a79a946c4   \n",
              "4  b7b7764cfa1c523e4e93ab2a79a946c4   \n",
              "\n",
              "                                              STATUS  sEXT  sNEU  sAGR  sCON  \\\n",
              "0                        likes the sound of thunder.  2.65   3.0  3.15  3.25   \n",
              "1  is so sleepy it's not even funny that's she ca...  2.65   3.0  3.15  3.25   \n",
              "2  is sore and wants the knot of muscles at the b...  2.65   3.0  3.15  3.25   \n",
              "3         likes how the day sounds in this new song.  2.65   3.0  3.15  3.25   \n",
              "4                                        is home. <3  2.65   3.0  3.15  3.25   \n",
              "\n",
              "   sOPN cEXT cNEU cAGR cCON cOPN               DATE  NETWORKSIZE  BETWEENNESS  \\\n",
              "0   4.4    n    y    n    n    y  06/19/09 03:21 PM        180.0      14861.6   \n",
              "1   4.4    n    y    n    n    y  07/02/09 08:41 AM        180.0      14861.6   \n",
              "2   4.4    n    y    n    n    y  06/15/09 01:15 PM        180.0      14861.6   \n",
              "3   4.4    n    y    n    n    y  06/22/09 04:48 AM        180.0      14861.6   \n",
              "4   4.4    n    y    n    n    y  07/20/09 02:31 AM        180.0      14861.6   \n",
              "\n",
              "   NBETWEENNESS  DENSITY  BROKERAGE  NBROKERAGE  TRANSITIVITY  \n",
              "0         93.29     0.03    15661.0        0.49           0.1  \n",
              "1         93.29     0.03    15661.0        0.49           0.1  \n",
              "2         93.29     0.03    15661.0        0.49           0.1  \n",
              "3         93.29     0.03    15661.0        0.49           0.1  \n",
              "4         93.29     0.03    15661.0        0.49           0.1  "
            ],
            "text/html": [
              "\n",
              "  <div id=\"df-0b1cc2b4-2b25-4705-b75d-b2480965d15b\">\n",
              "    <div class=\"colab-df-container\">\n",
              "      <div>\n",
              "<style scoped>\n",
              "    .dataframe tbody tr th:only-of-type {\n",
              "        vertical-align: middle;\n",
              "    }\n",
              "\n",
              "    .dataframe tbody tr th {\n",
              "        vertical-align: top;\n",
              "    }\n",
              "\n",
              "    .dataframe thead th {\n",
              "        text-align: right;\n",
              "    }\n",
              "</style>\n",
              "<table border=\"1\" class=\"dataframe\">\n",
              "  <thead>\n",
              "    <tr style=\"text-align: right;\">\n",
              "      <th></th>\n",
              "      <th>#AUTHID</th>\n",
              "      <th>STATUS</th>\n",
              "      <th>sEXT</th>\n",
              "      <th>sNEU</th>\n",
              "      <th>sAGR</th>\n",
              "      <th>sCON</th>\n",
              "      <th>sOPN</th>\n",
              "      <th>cEXT</th>\n",
              "      <th>cNEU</th>\n",
              "      <th>cAGR</th>\n",
              "      <th>cCON</th>\n",
              "      <th>cOPN</th>\n",
              "      <th>DATE</th>\n",
              "      <th>NETWORKSIZE</th>\n",
              "      <th>BETWEENNESS</th>\n",
              "      <th>NBETWEENNESS</th>\n",
              "      <th>DENSITY</th>\n",
              "      <th>BROKERAGE</th>\n",
              "      <th>NBROKERAGE</th>\n",
              "      <th>TRANSITIVITY</th>\n",
              "    </tr>\n",
              "  </thead>\n",
              "  <tbody>\n",
              "    <tr>\n",
              "      <th>0</th>\n",
              "      <td>b7b7764cfa1c523e4e93ab2a79a946c4</td>\n",
              "      <td>likes the sound of thunder.</td>\n",
              "      <td>2.65</td>\n",
              "      <td>3.0</td>\n",
              "      <td>3.15</td>\n",
              "      <td>3.25</td>\n",
              "      <td>4.4</td>\n",
              "      <td>n</td>\n",
              "      <td>y</td>\n",
              "      <td>n</td>\n",
              "      <td>n</td>\n",
              "      <td>y</td>\n",
              "      <td>06/19/09 03:21 PM</td>\n",
              "      <td>180.0</td>\n",
              "      <td>14861.6</td>\n",
              "      <td>93.29</td>\n",
              "      <td>0.03</td>\n",
              "      <td>15661.0</td>\n",
              "      <td>0.49</td>\n",
              "      <td>0.1</td>\n",
              "    </tr>\n",
              "    <tr>\n",
              "      <th>1</th>\n",
              "      <td>b7b7764cfa1c523e4e93ab2a79a946c4</td>\n",
              "      <td>is so sleepy it's not even funny that's she ca...</td>\n",
              "      <td>2.65</td>\n",
              "      <td>3.0</td>\n",
              "      <td>3.15</td>\n",
              "      <td>3.25</td>\n",
              "      <td>4.4</td>\n",
              "      <td>n</td>\n",
              "      <td>y</td>\n",
              "      <td>n</td>\n",
              "      <td>n</td>\n",
              "      <td>y</td>\n",
              "      <td>07/02/09 08:41 AM</td>\n",
              "      <td>180.0</td>\n",
              "      <td>14861.6</td>\n",
              "      <td>93.29</td>\n",
              "      <td>0.03</td>\n",
              "      <td>15661.0</td>\n",
              "      <td>0.49</td>\n",
              "      <td>0.1</td>\n",
              "    </tr>\n",
              "    <tr>\n",
              "      <th>2</th>\n",
              "      <td>b7b7764cfa1c523e4e93ab2a79a946c4</td>\n",
              "      <td>is sore and wants the knot of muscles at the b...</td>\n",
              "      <td>2.65</td>\n",
              "      <td>3.0</td>\n",
              "      <td>3.15</td>\n",
              "      <td>3.25</td>\n",
              "      <td>4.4</td>\n",
              "      <td>n</td>\n",
              "      <td>y</td>\n",
              "      <td>n</td>\n",
              "      <td>n</td>\n",
              "      <td>y</td>\n",
              "      <td>06/15/09 01:15 PM</td>\n",
              "      <td>180.0</td>\n",
              "      <td>14861.6</td>\n",
              "      <td>93.29</td>\n",
              "      <td>0.03</td>\n",
              "      <td>15661.0</td>\n",
              "      <td>0.49</td>\n",
              "      <td>0.1</td>\n",
              "    </tr>\n",
              "    <tr>\n",
              "      <th>3</th>\n",
              "      <td>b7b7764cfa1c523e4e93ab2a79a946c4</td>\n",
              "      <td>likes how the day sounds in this new song.</td>\n",
              "      <td>2.65</td>\n",
              "      <td>3.0</td>\n",
              "      <td>3.15</td>\n",
              "      <td>3.25</td>\n",
              "      <td>4.4</td>\n",
              "      <td>n</td>\n",
              "      <td>y</td>\n",
              "      <td>n</td>\n",
              "      <td>n</td>\n",
              "      <td>y</td>\n",
              "      <td>06/22/09 04:48 AM</td>\n",
              "      <td>180.0</td>\n",
              "      <td>14861.6</td>\n",
              "      <td>93.29</td>\n",
              "      <td>0.03</td>\n",
              "      <td>15661.0</td>\n",
              "      <td>0.49</td>\n",
              "      <td>0.1</td>\n",
              "    </tr>\n",
              "    <tr>\n",
              "      <th>4</th>\n",
              "      <td>b7b7764cfa1c523e4e93ab2a79a946c4</td>\n",
              "      <td>is home. &lt;3</td>\n",
              "      <td>2.65</td>\n",
              "      <td>3.0</td>\n",
              "      <td>3.15</td>\n",
              "      <td>3.25</td>\n",
              "      <td>4.4</td>\n",
              "      <td>n</td>\n",
              "      <td>y</td>\n",
              "      <td>n</td>\n",
              "      <td>n</td>\n",
              "      <td>y</td>\n",
              "      <td>07/20/09 02:31 AM</td>\n",
              "      <td>180.0</td>\n",
              "      <td>14861.6</td>\n",
              "      <td>93.29</td>\n",
              "      <td>0.03</td>\n",
              "      <td>15661.0</td>\n",
              "      <td>0.49</td>\n",
              "      <td>0.1</td>\n",
              "    </tr>\n",
              "  </tbody>\n",
              "</table>\n",
              "</div>\n",
              "      <button class=\"colab-df-convert\" onclick=\"convertToInteractive('df-0b1cc2b4-2b25-4705-b75d-b2480965d15b')\"\n",
              "              title=\"Convert this dataframe to an interactive table.\"\n",
              "              style=\"display:none;\">\n",
              "        \n",
              "  <svg xmlns=\"http://www.w3.org/2000/svg\" height=\"24px\"viewBox=\"0 0 24 24\"\n",
              "       width=\"24px\">\n",
              "    <path d=\"M0 0h24v24H0V0z\" fill=\"none\"/>\n",
              "    <path d=\"M18.56 5.44l.94 2.06.94-2.06 2.06-.94-2.06-.94-.94-2.06-.94 2.06-2.06.94zm-11 1L8.5 8.5l.94-2.06 2.06-.94-2.06-.94L8.5 2.5l-.94 2.06-2.06.94zm10 10l.94 2.06.94-2.06 2.06-.94-2.06-.94-.94-2.06-.94 2.06-2.06.94z\"/><path d=\"M17.41 7.96l-1.37-1.37c-.4-.4-.92-.59-1.43-.59-.52 0-1.04.2-1.43.59L10.3 9.45l-7.72 7.72c-.78.78-.78 2.05 0 2.83L4 21.41c.39.39.9.59 1.41.59.51 0 1.02-.2 1.41-.59l7.78-7.78 2.81-2.81c.8-.78.8-2.07 0-2.86zM5.41 20L4 18.59l7.72-7.72 1.47 1.35L5.41 20z\"/>\n",
              "  </svg>\n",
              "      </button>\n",
              "      \n",
              "  <style>\n",
              "    .colab-df-container {\n",
              "      display:flex;\n",
              "      flex-wrap:wrap;\n",
              "      gap: 12px;\n",
              "    }\n",
              "\n",
              "    .colab-df-convert {\n",
              "      background-color: #E8F0FE;\n",
              "      border: none;\n",
              "      border-radius: 50%;\n",
              "      cursor: pointer;\n",
              "      display: none;\n",
              "      fill: #1967D2;\n",
              "      height: 32px;\n",
              "      padding: 0 0 0 0;\n",
              "      width: 32px;\n",
              "    }\n",
              "\n",
              "    .colab-df-convert:hover {\n",
              "      background-color: #E2EBFA;\n",
              "      box-shadow: 0px 1px 2px rgba(60, 64, 67, 0.3), 0px 1px 3px 1px rgba(60, 64, 67, 0.15);\n",
              "      fill: #174EA6;\n",
              "    }\n",
              "\n",
              "    [theme=dark] .colab-df-convert {\n",
              "      background-color: #3B4455;\n",
              "      fill: #D2E3FC;\n",
              "    }\n",
              "\n",
              "    [theme=dark] .colab-df-convert:hover {\n",
              "      background-color: #434B5C;\n",
              "      box-shadow: 0px 1px 3px 1px rgba(0, 0, 0, 0.15);\n",
              "      filter: drop-shadow(0px 1px 2px rgba(0, 0, 0, 0.3));\n",
              "      fill: #FFFFFF;\n",
              "    }\n",
              "  </style>\n",
              "\n",
              "      <script>\n",
              "        const buttonEl =\n",
              "          document.querySelector('#df-0b1cc2b4-2b25-4705-b75d-b2480965d15b button.colab-df-convert');\n",
              "        buttonEl.style.display =\n",
              "          google.colab.kernel.accessAllowed ? 'block' : 'none';\n",
              "\n",
              "        async function convertToInteractive(key) {\n",
              "          const element = document.querySelector('#df-0b1cc2b4-2b25-4705-b75d-b2480965d15b');\n",
              "          const dataTable =\n",
              "            await google.colab.kernel.invokeFunction('convertToInteractive',\n",
              "                                                     [key], {});\n",
              "          if (!dataTable) return;\n",
              "\n",
              "          const docLinkHtml = 'Like what you see? Visit the ' +\n",
              "            '<a target=\"_blank\" href=https://colab.research.google.com/notebooks/data_table.ipynb>data table notebook</a>'\n",
              "            + ' to learn more about interactive tables.';\n",
              "          element.innerHTML = '';\n",
              "          dataTable['output_type'] = 'display_data';\n",
              "          await google.colab.output.renderOutput(dataTable, element);\n",
              "          const docLink = document.createElement('div');\n",
              "          docLink.innerHTML = docLinkHtml;\n",
              "          element.appendChild(docLink);\n",
              "        }\n",
              "      </script>\n",
              "    </div>\n",
              "  </div>\n",
              "  "
            ]
          },
          "metadata": {},
          "execution_count": 5
        }
      ]
    },
    {
      "cell_type": "markdown",
      "source": [
        "## 2. Limpieza de los datos\n",
        "\n",
        "Dejamos solo las columnas con las que vamos a trabajar."
      ],
      "metadata": {
        "id": "N6gQq6WtBNX2"
      }
    },
    {
      "cell_type": "code",
      "source": [
        "datos_limpios = datos.drop(['DATE','NETWORKSIZE','BETWEENNESS','NBETWEENNESS','DENSITY','BROKERAGE','NBROKERAGE','TRANSITIVITY'],axis=1)"
      ],
      "metadata": {
        "id": "c6CJCF34BoP2"
      },
      "execution_count": null,
      "outputs": []
    },
    {
      "cell_type": "code",
      "source": [
        "datos_limpios.head()"
      ],
      "metadata": {
        "colab": {
          "base_uri": "https://localhost:8080/",
          "height": 319
        },
        "id": "R1qDgXIlBxcI",
        "outputId": "74492d25-12b2-470a-f4e4-86ca3ac2bdfb"
      },
      "execution_count": null,
      "outputs": [
        {
          "output_type": "execute_result",
          "data": {
            "text/plain": [
              "                            #AUTHID  \\\n",
              "0  b7b7764cfa1c523e4e93ab2a79a946c4   \n",
              "1  b7b7764cfa1c523e4e93ab2a79a946c4   \n",
              "2  b7b7764cfa1c523e4e93ab2a79a946c4   \n",
              "3  b7b7764cfa1c523e4e93ab2a79a946c4   \n",
              "4  b7b7764cfa1c523e4e93ab2a79a946c4   \n",
              "\n",
              "                                              STATUS  sEXT  sNEU  sAGR  sCON  \\\n",
              "0                        likes the sound of thunder.  2.65   3.0  3.15  3.25   \n",
              "1  is so sleepy it's not even funny that's she ca...  2.65   3.0  3.15  3.25   \n",
              "2  is sore and wants the knot of muscles at the b...  2.65   3.0  3.15  3.25   \n",
              "3         likes how the day sounds in this new song.  2.65   3.0  3.15  3.25   \n",
              "4                                        is home. <3  2.65   3.0  3.15  3.25   \n",
              "\n",
              "   sOPN cEXT cNEU cAGR cCON cOPN  \n",
              "0   4.4    n    y    n    n    y  \n",
              "1   4.4    n    y    n    n    y  \n",
              "2   4.4    n    y    n    n    y  \n",
              "3   4.4    n    y    n    n    y  \n",
              "4   4.4    n    y    n    n    y  "
            ],
            "text/html": [
              "\n",
              "  <div id=\"df-6cc1287b-55a9-4754-bbda-0b559a9a52b1\">\n",
              "    <div class=\"colab-df-container\">\n",
              "      <div>\n",
              "<style scoped>\n",
              "    .dataframe tbody tr th:only-of-type {\n",
              "        vertical-align: middle;\n",
              "    }\n",
              "\n",
              "    .dataframe tbody tr th {\n",
              "        vertical-align: top;\n",
              "    }\n",
              "\n",
              "    .dataframe thead th {\n",
              "        text-align: right;\n",
              "    }\n",
              "</style>\n",
              "<table border=\"1\" class=\"dataframe\">\n",
              "  <thead>\n",
              "    <tr style=\"text-align: right;\">\n",
              "      <th></th>\n",
              "      <th>#AUTHID</th>\n",
              "      <th>STATUS</th>\n",
              "      <th>sEXT</th>\n",
              "      <th>sNEU</th>\n",
              "      <th>sAGR</th>\n",
              "      <th>sCON</th>\n",
              "      <th>sOPN</th>\n",
              "      <th>cEXT</th>\n",
              "      <th>cNEU</th>\n",
              "      <th>cAGR</th>\n",
              "      <th>cCON</th>\n",
              "      <th>cOPN</th>\n",
              "    </tr>\n",
              "  </thead>\n",
              "  <tbody>\n",
              "    <tr>\n",
              "      <th>0</th>\n",
              "      <td>b7b7764cfa1c523e4e93ab2a79a946c4</td>\n",
              "      <td>likes the sound of thunder.</td>\n",
              "      <td>2.65</td>\n",
              "      <td>3.0</td>\n",
              "      <td>3.15</td>\n",
              "      <td>3.25</td>\n",
              "      <td>4.4</td>\n",
              "      <td>n</td>\n",
              "      <td>y</td>\n",
              "      <td>n</td>\n",
              "      <td>n</td>\n",
              "      <td>y</td>\n",
              "    </tr>\n",
              "    <tr>\n",
              "      <th>1</th>\n",
              "      <td>b7b7764cfa1c523e4e93ab2a79a946c4</td>\n",
              "      <td>is so sleepy it's not even funny that's she ca...</td>\n",
              "      <td>2.65</td>\n",
              "      <td>3.0</td>\n",
              "      <td>3.15</td>\n",
              "      <td>3.25</td>\n",
              "      <td>4.4</td>\n",
              "      <td>n</td>\n",
              "      <td>y</td>\n",
              "      <td>n</td>\n",
              "      <td>n</td>\n",
              "      <td>y</td>\n",
              "    </tr>\n",
              "    <tr>\n",
              "      <th>2</th>\n",
              "      <td>b7b7764cfa1c523e4e93ab2a79a946c4</td>\n",
              "      <td>is sore and wants the knot of muscles at the b...</td>\n",
              "      <td>2.65</td>\n",
              "      <td>3.0</td>\n",
              "      <td>3.15</td>\n",
              "      <td>3.25</td>\n",
              "      <td>4.4</td>\n",
              "      <td>n</td>\n",
              "      <td>y</td>\n",
              "      <td>n</td>\n",
              "      <td>n</td>\n",
              "      <td>y</td>\n",
              "    </tr>\n",
              "    <tr>\n",
              "      <th>3</th>\n",
              "      <td>b7b7764cfa1c523e4e93ab2a79a946c4</td>\n",
              "      <td>likes how the day sounds in this new song.</td>\n",
              "      <td>2.65</td>\n",
              "      <td>3.0</td>\n",
              "      <td>3.15</td>\n",
              "      <td>3.25</td>\n",
              "      <td>4.4</td>\n",
              "      <td>n</td>\n",
              "      <td>y</td>\n",
              "      <td>n</td>\n",
              "      <td>n</td>\n",
              "      <td>y</td>\n",
              "    </tr>\n",
              "    <tr>\n",
              "      <th>4</th>\n",
              "      <td>b7b7764cfa1c523e4e93ab2a79a946c4</td>\n",
              "      <td>is home. &lt;3</td>\n",
              "      <td>2.65</td>\n",
              "      <td>3.0</td>\n",
              "      <td>3.15</td>\n",
              "      <td>3.25</td>\n",
              "      <td>4.4</td>\n",
              "      <td>n</td>\n",
              "      <td>y</td>\n",
              "      <td>n</td>\n",
              "      <td>n</td>\n",
              "      <td>y</td>\n",
              "    </tr>\n",
              "  </tbody>\n",
              "</table>\n",
              "</div>\n",
              "      <button class=\"colab-df-convert\" onclick=\"convertToInteractive('df-6cc1287b-55a9-4754-bbda-0b559a9a52b1')\"\n",
              "              title=\"Convert this dataframe to an interactive table.\"\n",
              "              style=\"display:none;\">\n",
              "        \n",
              "  <svg xmlns=\"http://www.w3.org/2000/svg\" height=\"24px\"viewBox=\"0 0 24 24\"\n",
              "       width=\"24px\">\n",
              "    <path d=\"M0 0h24v24H0V0z\" fill=\"none\"/>\n",
              "    <path d=\"M18.56 5.44l.94 2.06.94-2.06 2.06-.94-2.06-.94-.94-2.06-.94 2.06-2.06.94zm-11 1L8.5 8.5l.94-2.06 2.06-.94-2.06-.94L8.5 2.5l-.94 2.06-2.06.94zm10 10l.94 2.06.94-2.06 2.06-.94-2.06-.94-.94-2.06-.94 2.06-2.06.94z\"/><path d=\"M17.41 7.96l-1.37-1.37c-.4-.4-.92-.59-1.43-.59-.52 0-1.04.2-1.43.59L10.3 9.45l-7.72 7.72c-.78.78-.78 2.05 0 2.83L4 21.41c.39.39.9.59 1.41.59.51 0 1.02-.2 1.41-.59l7.78-7.78 2.81-2.81c.8-.78.8-2.07 0-2.86zM5.41 20L4 18.59l7.72-7.72 1.47 1.35L5.41 20z\"/>\n",
              "  </svg>\n",
              "      </button>\n",
              "      \n",
              "  <style>\n",
              "    .colab-df-container {\n",
              "      display:flex;\n",
              "      flex-wrap:wrap;\n",
              "      gap: 12px;\n",
              "    }\n",
              "\n",
              "    .colab-df-convert {\n",
              "      background-color: #E8F0FE;\n",
              "      border: none;\n",
              "      border-radius: 50%;\n",
              "      cursor: pointer;\n",
              "      display: none;\n",
              "      fill: #1967D2;\n",
              "      height: 32px;\n",
              "      padding: 0 0 0 0;\n",
              "      width: 32px;\n",
              "    }\n",
              "\n",
              "    .colab-df-convert:hover {\n",
              "      background-color: #E2EBFA;\n",
              "      box-shadow: 0px 1px 2px rgba(60, 64, 67, 0.3), 0px 1px 3px 1px rgba(60, 64, 67, 0.15);\n",
              "      fill: #174EA6;\n",
              "    }\n",
              "\n",
              "    [theme=dark] .colab-df-convert {\n",
              "      background-color: #3B4455;\n",
              "      fill: #D2E3FC;\n",
              "    }\n",
              "\n",
              "    [theme=dark] .colab-df-convert:hover {\n",
              "      background-color: #434B5C;\n",
              "      box-shadow: 0px 1px 3px 1px rgba(0, 0, 0, 0.15);\n",
              "      filter: drop-shadow(0px 1px 2px rgba(0, 0, 0, 0.3));\n",
              "      fill: #FFFFFF;\n",
              "    }\n",
              "  </style>\n",
              "\n",
              "      <script>\n",
              "        const buttonEl =\n",
              "          document.querySelector('#df-6cc1287b-55a9-4754-bbda-0b559a9a52b1 button.colab-df-convert');\n",
              "        buttonEl.style.display =\n",
              "          google.colab.kernel.accessAllowed ? 'block' : 'none';\n",
              "\n",
              "        async function convertToInteractive(key) {\n",
              "          const element = document.querySelector('#df-6cc1287b-55a9-4754-bbda-0b559a9a52b1');\n",
              "          const dataTable =\n",
              "            await google.colab.kernel.invokeFunction('convertToInteractive',\n",
              "                                                     [key], {});\n",
              "          if (!dataTable) return;\n",
              "\n",
              "          const docLinkHtml = 'Like what you see? Visit the ' +\n",
              "            '<a target=\"_blank\" href=https://colab.research.google.com/notebooks/data_table.ipynb>data table notebook</a>'\n",
              "            + ' to learn more about interactive tables.';\n",
              "          element.innerHTML = '';\n",
              "          dataTable['output_type'] = 'display_data';\n",
              "          await google.colab.output.renderOutput(dataTable, element);\n",
              "          const docLink = document.createElement('div');\n",
              "          docLink.innerHTML = docLinkHtml;\n",
              "          element.appendChild(docLink);\n",
              "        }\n",
              "      </script>\n",
              "    </div>\n",
              "  </div>\n",
              "  "
            ]
          },
          "metadata": {},
          "execution_count": 7
        }
      ]
    },
    {
      "cell_type": "markdown",
      "source": [
        "### Filtrar textos cortos\n",
        "\n",
        "A continuación eliminamos los registros cuyos textos tengan 20 o menos palabras"
      ],
      "metadata": {
        "id": "A108FGhlB893"
      }
    },
    {
      "cell_type": "code",
      "source": [
        "datos_limpios['NumOfWords'] = [len(str(x).split(\" \")) for x in datos_limpios['STATUS']] "
      ],
      "metadata": {
        "id": "o8WQv4uyB91e"
      },
      "execution_count": null,
      "outputs": []
    },
    {
      "cell_type": "code",
      "source": [
        "datos_limpios = datos_limpios[datos_limpios.NumOfWords>20]"
      ],
      "metadata": {
        "id": "a6c7pKuFCDtg"
      },
      "execution_count": null,
      "outputs": []
    },
    {
      "cell_type": "code",
      "source": [
        "datos_limpios.head()"
      ],
      "metadata": {
        "colab": {
          "base_uri": "https://localhost:8080/",
          "height": 736
        },
        "id": "E9o71kZECGvn",
        "outputId": "f56e114b-193f-4a66-c341-bb084aca269f"
      },
      "execution_count": null,
      "outputs": [
        {
          "output_type": "execute_result",
          "data": {
            "text/plain": [
              "                             #AUTHID  \\\n",
              "2   b7b7764cfa1c523e4e93ab2a79a946c4   \n",
              "8   b7b7764cfa1c523e4e93ab2a79a946c4   \n",
              "30  b7b7764cfa1c523e4e93ab2a79a946c4   \n",
              "32  b7b7764cfa1c523e4e93ab2a79a946c4   \n",
              "33  b7b7764cfa1c523e4e93ab2a79a946c4   \n",
              "\n",
              "                                               STATUS  sEXT  sNEU  sAGR  sCON  \\\n",
              "2   is sore and wants the knot of muscles at the b...  2.65   3.0  3.15  3.25   \n",
              "8   was about to finish a digital painting before ...  2.65   3.0  3.15  3.25   \n",
              "30  has a watch that matches her glasses. She wish...  2.65   3.0  3.15  3.25   \n",
              "32  can't sit on her futon because she knows as so...  2.65   3.0  3.15  3.25   \n",
              "33  should spend less time writing chapters for th...  2.65   3.0  3.15  3.25   \n",
              "\n",
              "    sOPN cEXT cNEU cAGR cCON cOPN  NumOfWords  \n",
              "2    4.4    n    y    n    n    y          26  \n",
              "8    4.4    n    y    n    n    y          27  \n",
              "30   4.4    n    y    n    n    y          21  \n",
              "32   4.4    n    y    n    n    y          26  \n",
              "33   4.4    n    y    n    n    y          26  "
            ],
            "text/html": [
              "\n",
              "  <div id=\"df-6b70b9d6-be87-4f1e-8a4a-f30164b3c14e\">\n",
              "    <div class=\"colab-df-container\">\n",
              "      <div>\n",
              "<style scoped>\n",
              "    .dataframe tbody tr th:only-of-type {\n",
              "        vertical-align: middle;\n",
              "    }\n",
              "\n",
              "    .dataframe tbody tr th {\n",
              "        vertical-align: top;\n",
              "    }\n",
              "\n",
              "    .dataframe thead th {\n",
              "        text-align: right;\n",
              "    }\n",
              "</style>\n",
              "<table border=\"1\" class=\"dataframe\">\n",
              "  <thead>\n",
              "    <tr style=\"text-align: right;\">\n",
              "      <th></th>\n",
              "      <th>#AUTHID</th>\n",
              "      <th>STATUS</th>\n",
              "      <th>sEXT</th>\n",
              "      <th>sNEU</th>\n",
              "      <th>sAGR</th>\n",
              "      <th>sCON</th>\n",
              "      <th>sOPN</th>\n",
              "      <th>cEXT</th>\n",
              "      <th>cNEU</th>\n",
              "      <th>cAGR</th>\n",
              "      <th>cCON</th>\n",
              "      <th>cOPN</th>\n",
              "      <th>NumOfWords</th>\n",
              "    </tr>\n",
              "  </thead>\n",
              "  <tbody>\n",
              "    <tr>\n",
              "      <th>2</th>\n",
              "      <td>b7b7764cfa1c523e4e93ab2a79a946c4</td>\n",
              "      <td>is sore and wants the knot of muscles at the b...</td>\n",
              "      <td>2.65</td>\n",
              "      <td>3.0</td>\n",
              "      <td>3.15</td>\n",
              "      <td>3.25</td>\n",
              "      <td>4.4</td>\n",
              "      <td>n</td>\n",
              "      <td>y</td>\n",
              "      <td>n</td>\n",
              "      <td>n</td>\n",
              "      <td>y</td>\n",
              "      <td>26</td>\n",
              "    </tr>\n",
              "    <tr>\n",
              "      <th>8</th>\n",
              "      <td>b7b7764cfa1c523e4e93ab2a79a946c4</td>\n",
              "      <td>was about to finish a digital painting before ...</td>\n",
              "      <td>2.65</td>\n",
              "      <td>3.0</td>\n",
              "      <td>3.15</td>\n",
              "      <td>3.25</td>\n",
              "      <td>4.4</td>\n",
              "      <td>n</td>\n",
              "      <td>y</td>\n",
              "      <td>n</td>\n",
              "      <td>n</td>\n",
              "      <td>y</td>\n",
              "      <td>27</td>\n",
              "    </tr>\n",
              "    <tr>\n",
              "      <th>30</th>\n",
              "      <td>b7b7764cfa1c523e4e93ab2a79a946c4</td>\n",
              "      <td>has a watch that matches her glasses. She wish...</td>\n",
              "      <td>2.65</td>\n",
              "      <td>3.0</td>\n",
              "      <td>3.15</td>\n",
              "      <td>3.25</td>\n",
              "      <td>4.4</td>\n",
              "      <td>n</td>\n",
              "      <td>y</td>\n",
              "      <td>n</td>\n",
              "      <td>n</td>\n",
              "      <td>y</td>\n",
              "      <td>21</td>\n",
              "    </tr>\n",
              "    <tr>\n",
              "      <th>32</th>\n",
              "      <td>b7b7764cfa1c523e4e93ab2a79a946c4</td>\n",
              "      <td>can't sit on her futon because she knows as so...</td>\n",
              "      <td>2.65</td>\n",
              "      <td>3.0</td>\n",
              "      <td>3.15</td>\n",
              "      <td>3.25</td>\n",
              "      <td>4.4</td>\n",
              "      <td>n</td>\n",
              "      <td>y</td>\n",
              "      <td>n</td>\n",
              "      <td>n</td>\n",
              "      <td>y</td>\n",
              "      <td>26</td>\n",
              "    </tr>\n",
              "    <tr>\n",
              "      <th>33</th>\n",
              "      <td>b7b7764cfa1c523e4e93ab2a79a946c4</td>\n",
              "      <td>should spend less time writing chapters for th...</td>\n",
              "      <td>2.65</td>\n",
              "      <td>3.0</td>\n",
              "      <td>3.15</td>\n",
              "      <td>3.25</td>\n",
              "      <td>4.4</td>\n",
              "      <td>n</td>\n",
              "      <td>y</td>\n",
              "      <td>n</td>\n",
              "      <td>n</td>\n",
              "      <td>y</td>\n",
              "      <td>26</td>\n",
              "    </tr>\n",
              "  </tbody>\n",
              "</table>\n",
              "</div>\n",
              "      <button class=\"colab-df-convert\" onclick=\"convertToInteractive('df-6b70b9d6-be87-4f1e-8a4a-f30164b3c14e')\"\n",
              "              title=\"Convert this dataframe to an interactive table.\"\n",
              "              style=\"display:none;\">\n",
              "        \n",
              "  <svg xmlns=\"http://www.w3.org/2000/svg\" height=\"24px\"viewBox=\"0 0 24 24\"\n",
              "       width=\"24px\">\n",
              "    <path d=\"M0 0h24v24H0V0z\" fill=\"none\"/>\n",
              "    <path d=\"M18.56 5.44l.94 2.06.94-2.06 2.06-.94-2.06-.94-.94-2.06-.94 2.06-2.06.94zm-11 1L8.5 8.5l.94-2.06 2.06-.94-2.06-.94L8.5 2.5l-.94 2.06-2.06.94zm10 10l.94 2.06.94-2.06 2.06-.94-2.06-.94-.94-2.06-.94 2.06-2.06.94z\"/><path d=\"M17.41 7.96l-1.37-1.37c-.4-.4-.92-.59-1.43-.59-.52 0-1.04.2-1.43.59L10.3 9.45l-7.72 7.72c-.78.78-.78 2.05 0 2.83L4 21.41c.39.39.9.59 1.41.59.51 0 1.02-.2 1.41-.59l7.78-7.78 2.81-2.81c.8-.78.8-2.07 0-2.86zM5.41 20L4 18.59l7.72-7.72 1.47 1.35L5.41 20z\"/>\n",
              "  </svg>\n",
              "      </button>\n",
              "      \n",
              "  <style>\n",
              "    .colab-df-container {\n",
              "      display:flex;\n",
              "      flex-wrap:wrap;\n",
              "      gap: 12px;\n",
              "    }\n",
              "\n",
              "    .colab-df-convert {\n",
              "      background-color: #E8F0FE;\n",
              "      border: none;\n",
              "      border-radius: 50%;\n",
              "      cursor: pointer;\n",
              "      display: none;\n",
              "      fill: #1967D2;\n",
              "      height: 32px;\n",
              "      padding: 0 0 0 0;\n",
              "      width: 32px;\n",
              "    }\n",
              "\n",
              "    .colab-df-convert:hover {\n",
              "      background-color: #E2EBFA;\n",
              "      box-shadow: 0px 1px 2px rgba(60, 64, 67, 0.3), 0px 1px 3px 1px rgba(60, 64, 67, 0.15);\n",
              "      fill: #174EA6;\n",
              "    }\n",
              "\n",
              "    [theme=dark] .colab-df-convert {\n",
              "      background-color: #3B4455;\n",
              "      fill: #D2E3FC;\n",
              "    }\n",
              "\n",
              "    [theme=dark] .colab-df-convert:hover {\n",
              "      background-color: #434B5C;\n",
              "      box-shadow: 0px 1px 3px 1px rgba(0, 0, 0, 0.15);\n",
              "      filter: drop-shadow(0px 1px 2px rgba(0, 0, 0, 0.3));\n",
              "      fill: #FFFFFF;\n",
              "    }\n",
              "  </style>\n",
              "\n",
              "      <script>\n",
              "        const buttonEl =\n",
              "          document.querySelector('#df-6b70b9d6-be87-4f1e-8a4a-f30164b3c14e button.colab-df-convert');\n",
              "        buttonEl.style.display =\n",
              "          google.colab.kernel.accessAllowed ? 'block' : 'none';\n",
              "\n",
              "        async function convertToInteractive(key) {\n",
              "          const element = document.querySelector('#df-6b70b9d6-be87-4f1e-8a4a-f30164b3c14e');\n",
              "          const dataTable =\n",
              "            await google.colab.kernel.invokeFunction('convertToInteractive',\n",
              "                                                     [key], {});\n",
              "          if (!dataTable) return;\n",
              "\n",
              "          const docLinkHtml = 'Like what you see? Visit the ' +\n",
              "            '<a target=\"_blank\" href=https://colab.research.google.com/notebooks/data_table.ipynb>data table notebook</a>'\n",
              "            + ' to learn more about interactive tables.';\n",
              "          element.innerHTML = '';\n",
              "          dataTable['output_type'] = 'display_data';\n",
              "          await google.colab.output.renderOutput(dataTable, element);\n",
              "          const docLink = document.createElement('div');\n",
              "          docLink.innerHTML = docLinkHtml;\n",
              "          element.appendChild(docLink);\n",
              "        }\n",
              "      </script>\n",
              "    </div>\n",
              "  </div>\n",
              "  "
            ]
          },
          "metadata": {},
          "execution_count": 10
        }
      ]
    },
    {
      "cell_type": "code",
      "source": [
        "print(f\"Número de textos: {len(datos_limpios)}\")  "
      ],
      "metadata": {
        "colab": {
          "base_uri": "https://localhost:8080/"
        },
        "id": "gDVwG0jeChqH",
        "outputId": "ab8dfb2f-ae4d-4049-e8d6-b39f59fe9ef0"
      },
      "execution_count": null,
      "outputs": [
        {
          "output_type": "stream",
          "name": "stdout",
          "text": [
            "Número de textos: 2221\n"
          ]
        }
      ]
    },
    {
      "cell_type": "markdown",
      "source": [
        "### Pasamos a una lista los textos.\n",
        "\n",
        "Solo por se necesita utilizarse en forma de lista."
      ],
      "metadata": {
        "id": "6R-vsVSwEYMQ"
      }
    },
    {
      "cell_type": "code",
      "source": [
        "datos_a_lista = datos_limpios['STATUS'].values.tolist()\n",
        "print(len(datos_a_lista))\n",
        "datos_a_lista[0:10]"
      ],
      "metadata": {
        "colab": {
          "base_uri": "https://localhost:8080/"
        },
        "id": "PTK4yWPuEm4P",
        "outputId": "b6bf09f0-0bc5-46d8-d30d-df7bf8f45fa2"
      },
      "execution_count": null,
      "outputs": [
        {
          "output_type": "stream",
          "name": "stdout",
          "text": [
            "2221\n"
          ]
        },
        {
          "output_type": "execute_result",
          "data": {
            "text/plain": [
              "[\"is sore and wants the knot of muscles at the base of her neck to stop hurting. On the other hand, YAY I'M IN ILLINOIS! <3\",\n",
              " 'was about to finish a digital painting before her tablet went haywire. Is now contemplating the many ways she wishes to exact her revenge on faulty technology.',\n",
              " \"has a watch that matches her glasses. She wishes she hadn't spazzed with glee when she saw it in the store.\",\n",
              " \"can't sit on her futon because she knows as soon as she does she'll lie down and pass out. Uncomfortable rolly desk chair it is. :(\",\n",
              " \"should spend less time writing chapters for the story she'll never finish, and try reading more books. Preferably, during the daytime, and not at 3:00 AM.\",\n",
              " 'is grateful she did most of her work during her wait for a ride home this afternoon and then during the Open House. Sleeeep, she beckons.',\n",
              " 'has grown weary of drawing her paranoid, soldier//housewife Jynx character in comic form, and must thusly go to sleep to replenish her desire to work tirelessly on a mere audition.',\n",
              " 'got taught how to use the register (<3!!!~), enjoyed (500) Days of Summer, and is looking forward to going to the beach Monday.',\n",
              " 'was all prepared to do her weekend homeowrk the morning it was due, but realized she left the necessary binder at school. FFFFFFFFFFFFF-',\n",
              " \"I don't hate you.// Well, you found me. Congratulations. Was it worth it?// The only thing you've managed to break so far is my heart.// This isn't brave. It's murder.// What did I ever do to you?// You don't care, do you.// Please proceed to Andorid Hell.\"]"
            ]
          },
          "metadata": {},
          "execution_count": 16
        }
      ]
    },
    {
      "cell_type": "markdown",
      "source": [
        "### Investigar como traducir los textos.\n",
        "\n",
        "Revisar:\n",
        "\n",
        "[Traducir con Google Translate](https://www.thepythoncode.com/article/translate-text-in-python)\n",
        "\n",
        "[Python - Text Translation](https://www.tutorialspoint.com/python_text_processing/python_text_translation.htm)"
      ],
      "metadata": {
        "id": "LkAN43jZCVOH"
      }
    },
    {
      "cell_type": "markdown",
      "source": [
        "### Usando la biblioteca translate.\n",
        "\n",
        "[Fuente](https://www.thepythoncode.com/article/translate-text-in-python)"
      ],
      "metadata": {
        "id": "Am9vpPP6MtSZ"
      }
    },
    {
      "cell_type": "code",
      "source": [
        "!pip install translate"
      ],
      "metadata": {
        "id": "l2YPTjAhCgaQ",
        "colab": {
          "base_uri": "https://localhost:8080/"
        },
        "outputId": "91bad244-6abc-4522-fd53-cce205f5c284"
      },
      "execution_count": null,
      "outputs": [
        {
          "output_type": "stream",
          "name": "stdout",
          "text": [
            "Looking in indexes: https://pypi.org/simple, https://us-python.pkg.dev/colab-wheels/public/simple/\n",
            "Collecting translate\n",
            "  Downloading translate-3.6.1-py2.py3-none-any.whl (12 kB)\n",
            "Requirement already satisfied: requests in /usr/local/lib/python3.9/dist-packages (from translate) (2.25.1)\n",
            "Requirement already satisfied: click in /usr/local/lib/python3.9/dist-packages (from translate) (8.1.3)\n",
            "Requirement already satisfied: lxml in /usr/local/lib/python3.9/dist-packages (from translate) (4.9.2)\n",
            "Collecting libretranslatepy==2.1.1\n",
            "  Downloading libretranslatepy-2.1.1-py3-none-any.whl (3.2 kB)\n",
            "Requirement already satisfied: urllib3<1.27,>=1.21.1 in /usr/local/lib/python3.9/dist-packages (from requests->translate) (1.26.14)\n",
            "Requirement already satisfied: chardet<5,>=3.0.2 in /usr/local/lib/python3.9/dist-packages (from requests->translate) (4.0.0)\n",
            "Requirement already satisfied: certifi>=2017.4.17 in /usr/local/lib/python3.9/dist-packages (from requests->translate) (2022.12.7)\n",
            "Requirement already satisfied: idna<3,>=2.5 in /usr/local/lib/python3.9/dist-packages (from requests->translate) (2.10)\n",
            "Installing collected packages: libretranslatepy, translate\n",
            "Successfully installed libretranslatepy-2.1.1 translate-3.6.1\n"
          ]
        }
      ]
    },
    {
      "cell_type": "code",
      "source": [
        "from translate import Translator\n",
        "#translator= Translator(from_lang=\"portuguese\",to_lang=\"spanish\")\n",
        "translator = Translator(from_lang=\"English\",to_lang=\"Spanish\")\n",
        "translation = translator.translate(\"Note that the Translator class has several optional arguments\")\n",
        "print(translation)"
      ],
      "metadata": {
        "colab": {
          "base_uri": "https://localhost:8080/"
        },
        "id": "cOPtKX8uMx1Y",
        "outputId": "e2c47073-a97d-4a39-dd53-a575ef94be6d"
      },
      "execution_count": null,
      "outputs": [
        {
          "output_type": "stream",
          "name": "stdout",
          "text": [
            "Tenga en cuenta que los argumentos son prácticamente los mismos.\n"
          ]
        }
      ]
    },
    {
      "cell_type": "markdown",
      "source": [
        "### Conclusión.\n",
        "\n",
        "Me parece que no hace una traducción correcta."
      ],
      "metadata": {
        "id": "EK1SKuECOqLS"
      }
    },
    {
      "cell_type": "markdown",
      "source": [
        "### Usando la biblioteca googletrans.\n",
        "\n",
        "[Fuente](https://www.thepythoncode.com/article/translate-text-in-python)"
      ],
      "metadata": {
        "id": "Fn6pNkZPO2aZ"
      }
    },
    {
      "cell_type": "code",
      "source": [
        "#!pip3 uninstall googletrans\n",
        "!pip3 install googletrans==3.1.0a0"
      ],
      "metadata": {
        "colab": {
          "base_uri": "https://localhost:8080/"
        },
        "id": "7ydk-WmcPAWa",
        "outputId": "4363feea-c5d8-427a-aa68-a6690c25c583"
      },
      "execution_count": null,
      "outputs": [
        {
          "output_type": "stream",
          "name": "stdout",
          "text": [
            "Found existing installation: googletrans 3.1.0a0\n",
            "Uninstalling googletrans-3.1.0a0:\n",
            "  Would remove:\n",
            "    /usr/local/bin/translate\n",
            "    /usr/local/lib/python3.9/dist-packages/googletrans-3.1.0a0.dist-info/*\n",
            "    /usr/local/lib/python3.9/dist-packages/googletrans/*\n",
            "Proceed (Y/n)? Y\n",
            "  Successfully uninstalled googletrans-3.1.0a0\n",
            "Looking in indexes: https://pypi.org/simple, https://us-python.pkg.dev/colab-wheels/public/simple/\n",
            "Collecting googletrans==3.1.0a0\n",
            "  Using cached googletrans-3.1.0a0-py3-none-any.whl\n",
            "Requirement already satisfied: httpx==0.13.3 in /usr/local/lib/python3.9/dist-packages (from googletrans==3.1.0a0) (0.13.3)\n",
            "Requirement already satisfied: rfc3986<2,>=1.3 in /usr/local/lib/python3.9/dist-packages (from httpx==0.13.3->googletrans==3.1.0a0) (1.5.0)\n",
            "Requirement already satisfied: hstspreload in /usr/local/lib/python3.9/dist-packages (from httpx==0.13.3->googletrans==3.1.0a0) (2023.1.1)\n",
            "Requirement already satisfied: certifi in /usr/local/lib/python3.9/dist-packages (from httpx==0.13.3->googletrans==3.1.0a0) (2022.12.7)\n",
            "Requirement already satisfied: chardet==3.* in /usr/local/lib/python3.9/dist-packages (from httpx==0.13.3->googletrans==3.1.0a0) (3.0.4)\n",
            "Requirement already satisfied: sniffio in /usr/local/lib/python3.9/dist-packages (from httpx==0.13.3->googletrans==3.1.0a0) (1.3.0)\n",
            "Requirement already satisfied: idna==2.* in /usr/local/lib/python3.9/dist-packages (from httpx==0.13.3->googletrans==3.1.0a0) (2.10)\n",
            "Requirement already satisfied: httpcore==0.9.* in /usr/local/lib/python3.9/dist-packages (from httpx==0.13.3->googletrans==3.1.0a0) (0.9.1)\n",
            "Requirement already satisfied: h11<0.10,>=0.8 in /usr/local/lib/python3.9/dist-packages (from httpcore==0.9.*->httpx==0.13.3->googletrans==3.1.0a0) (0.9.0)\n",
            "Requirement already satisfied: h2==3.* in /usr/local/lib/python3.9/dist-packages (from httpcore==0.9.*->httpx==0.13.3->googletrans==3.1.0a0) (3.2.0)\n",
            "Requirement already satisfied: hpack<4,>=3.0 in /usr/local/lib/python3.9/dist-packages (from h2==3.*->httpcore==0.9.*->httpx==0.13.3->googletrans==3.1.0a0) (3.0.0)\n",
            "Requirement already satisfied: hyperframe<6,>=5.2.0 in /usr/local/lib/python3.9/dist-packages (from h2==3.*->httpcore==0.9.*->httpx==0.13.3->googletrans==3.1.0a0) (5.2.0)\n",
            "Installing collected packages: googletrans\n",
            "Successfully installed googletrans-3.1.0a0\n"
          ]
        }
      ]
    },
    {
      "cell_type": "code",
      "source": [
        "from googletrans import Translator, constants\n",
        "from pprint import pprint"
      ],
      "metadata": {
        "id": "pFXALl8nO-Bs"
      },
      "execution_count": null,
      "outputs": []
    },
    {
      "cell_type": "code",
      "source": [
        "# Inicializa la API Google API translator\n",
        "translator = Translator()"
      ],
      "metadata": {
        "id": "5NafOoKLPIw6"
      },
      "execution_count": null,
      "outputs": []
    },
    {
      "cell_type": "code",
      "source": [
        "# translate a english text to spanish text\n",
        "translation = translator.translate(\"Note that the Translator class has several optional arguments\", src=\"en\", dest=\"es\")\n",
        "print(f\"{translation.origin} ({translation.src}) --> {translation.text} ({translation.dest})\")\n",
        "print(translation.text)"
      ],
      "metadata": {
        "colab": {
          "base_uri": "https://localhost:8080/"
        },
        "id": "0QL1ZrzdPQgS",
        "outputId": "d2f2fdc1-c6c3-4742-e6ab-95270beb56ae"
      },
      "execution_count": null,
      "outputs": [
        {
          "output_type": "stream",
          "name": "stdout",
          "text": [
            "Note that the Translator class has several optional arguments (en) --> Tenga en cuenta que la clase Traductor tiene varios argumentos opcionales (es)\n",
            "Tenga en cuenta que la clase Traductor tiene varios argumentos opcionales\n"
          ]
        }
      ]
    },
    {
      "cell_type": "markdown",
      "source": [
        "### Conclusión.\n",
        "\n",
        "Se ve prometedora. Checa la fuente Ángel y has tus pruebas."
      ],
      "metadata": {
        "id": "uiK1dhpoRFRq"
      }
    }
  ]
}